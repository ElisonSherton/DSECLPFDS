{
 "cells": [
  {
   "cell_type": "markdown",
   "metadata": {},
   "source": [
    "# DSECLPFDS - Python Exercises for Practice (S1 to S3)"
   ]
  },
  {
   "cell_type": "markdown",
   "metadata": {},
   "source": [
    "**Q1**: Given a number, find the sum of its digits. Take the number as an input from the user."
   ]
  },
  {
   "cell_type": "code",
   "execution_count": 1,
   "metadata": {},
   "outputs": [
    {
     "name": "stdin",
     "output_type": "stream",
     "text": [
      "Enter your number 2365\n"
     ]
    },
    {
     "name": "stdout",
     "output_type": "stream",
     "text": [
      "Digit Sum 16\n"
     ]
    }
   ],
   "source": [
    "def find_digit_sum(number):\n",
    "    str_number = str(number)\n",
    "    digit_sum = 0\n",
    "    for char in str_number:\n",
    "        digit_sum += eval(char)\n",
    "    return digit_sum\n",
    "\n",
    "number = eval(input(\"Enter your number\"))\n",
    "print(\"Digit Sum\", find_digit_sum(number))"
   ]
  },
  {
   "cell_type": "markdown",
   "metadata": {},
   "source": [
    "**Q2**: Given a number, check whether the given number is an Armstrong number or not. A positive integer is called an Armstrong number of order n if:\n",
    "\n",
    "$$ abc... = a^n + b^n + c^n + ...$$\n",
    "\n",
    "*Example*: 153 = 1 x 1 x 1 + 5 x 5 x 5 + 3 x 3 x 3\n",
    "153 is an Armstrong number of order 3.\n",
    "\n",
    "Inputs from the user will be number and order n."
   ]
  },
  {
   "cell_type": "code",
   "execution_count": 6,
   "metadata": {},
   "outputs": [
    {
     "name": "stdin",
     "output_type": "stream",
     "text": [
      "Enter the number 153\n",
      "Enter the order 3\n"
     ]
    },
    {
     "name": "stdout",
     "output_type": "stream",
     "text": [
      "153 is an Armstrong number of order 3\n"
     ]
    }
   ],
   "source": [
    "def check_armstrong(number, order):\n",
    "    str_number = str(number)\n",
    "    digit_sum = 0\n",
    "    for char in str_number:\n",
    "        digit_sum += eval(char) ** order\n",
    "    if digit_sum == number:\n",
    "        return True\n",
    "    return False\n",
    "\n",
    "number = eval(input(\"Enter the number\"))\n",
    "order = eval(input(\"Enter the order\"))\n",
    "\n",
    "if check_armstrong(number, order):\n",
    "    print(number, \"is an Armstrong number of order\", order)\n",
    "else:\n",
    "    print(number, \"is not an Armstrong number for order\", order)"
   ]
  },
  {
   "cell_type": "markdown",
   "metadata": {},
   "source": [
    "**Q3**:  Given a string, write a python function to check if it is palindrome or not. A string is said to be palindrome if the reverse of the string is the same as string. For example, “malayalam” is a palindrome, but “music” is not a palindrome."
   ]
  },
  {
   "cell_type": "code",
   "execution_count": 7,
   "metadata": {},
   "outputs": [
    {
     "name": "stdin",
     "output_type": "stream",
     "text": [
      "Enter the string girafarig\n"
     ]
    },
    {
     "name": "stdout",
     "output_type": "stream",
     "text": [
      "girafarig is a palindrome\n"
     ]
    }
   ],
   "source": [
    "def check_palindrome(word):\n",
    "    if word == word[::-1]: return True\n",
    "    return False\n",
    "\n",
    "user_string = input(\"Enter the string\")\n",
    "if check_palindrome(user_string):\n",
    "    print(user_string, \"is a palindrome\")\n",
    "else:\n",
    "    print(user_string, \"is not a palindrome\")"
   ]
  },
  {
   "cell_type": "markdown",
   "metadata": {},
   "source": [
    "**Q4**: Given an array which may contain duplicates, print all elements and their frequencies."
   ]
  },
  {
   "cell_type": "code",
   "execution_count": 9,
   "metadata": {},
   "outputs": [
    {
     "name": "stdin",
     "output_type": "stream",
     "text": [
      "Enter the elements of the list in comma separated form 1,2,3,4,5,3,2,1,2,3,5,6,7,8,87,6,3\n"
     ]
    },
    {
     "name": "stdout",
     "output_type": "stream",
     "text": [
      "Element 1 Count 2\n",
      "Element 2 Count 3\n",
      "Element 3 Count 4\n",
      "Element 4 Count 1\n",
      "Element 5 Count 2\n",
      "Element 6 Count 2\n",
      "Element 7 Count 1\n",
      "Element 8 Count 1\n",
      "Element 87 Count 1\n"
     ]
    }
   ],
   "source": [
    "def count_elements(l):\n",
    "    counts = {}\n",
    "    for element in l:\n",
    "        if element in counts: counts[element] += 1\n",
    "        else: counts[element] = 1\n",
    "    \n",
    "    for k, v in counts.items():\n",
    "        print(\"Element\", k, \"Count\", v)\n",
    "\n",
    "input_list = input(\"Enter the elements of the list in comma separated form\").split(\",\")\n",
    "count_elements(input_list)"
   ]
  },
  {
   "cell_type": "markdown",
   "metadata": {},
   "source": [
    "**Q5**: Given a number n, write a function to print all prime factors of n. For example, if the input number is 12, then output should be “2 2 3”."
   ]
  },
  {
   "cell_type": "code",
   "execution_count": 33,
   "metadata": {},
   "outputs": [
    {
     "name": "stdout",
     "output_type": "stream",
     "text": [
      "2 2 3 "
     ]
    }
   ],
   "source": [
    "import math\n",
    "def prime_factorize(number):\n",
    "    \n",
    "    while number % 2 == 0:\n",
    "        number = number / 2\n",
    "        print(2, end = \" \")\n",
    "    \n",
    "    for i in range(3, int(math.sqrt(number)) + 3, 2):\n",
    "        while number % i == 0:\n",
    "            number = number / i\n",
    "            print(i, end = \" \")\n",
    "\n",
    "prime_factorize(12)"
   ]
  },
  {
   "cell_type": "markdown",
   "metadata": {},
   "source": [
    "**Q6**: Given two numbers n and r, find the value of nCr (binomial coefficient): \n",
    "\n",
    "$$^nC_r = \\frac{n!}{r! \\times (n-r)!}$$"
   ]
  },
  {
   "cell_type": "code",
   "execution_count": 35,
   "metadata": {},
   "outputs": [
    {
     "name": "stdin",
     "output_type": "stream",
     "text": [
      "Enter n and r in comma separated form 5,2\n"
     ]
    },
    {
     "name": "stdout",
     "output_type": "stream",
     "text": [
      "5C2 = 10.0\n"
     ]
    }
   ],
   "source": [
    "def fact(n):\n",
    "    product = 1\n",
    "    for i in range(1, n+1): product *= i\n",
    "    return product\n",
    "\n",
    "def ncr(n, r):\n",
    "    return fact(n) / fact(r) / fact(n - r)\n",
    "\n",
    "n, r = [eval(x) for x in input(\"Enter n and r in comma separated form\").split(\",\")]\n",
    "print(n, \"C\", r, \" = \", ncr(n, r), sep = \"\")"
   ]
  },
  {
   "cell_type": "markdown",
   "metadata": {},
   "source": [
    "**Q7**: Searching: Given a sorted array arr[] of n elements, write a function to search a given element x in arr[]. Do it using linear and binary search techniques."
   ]
  },
  {
   "cell_type": "code",
   "execution_count": 38,
   "metadata": {},
   "outputs": [
    {
     "name": "stdout",
     "output_type": "stream",
     "text": [
      "Linear Search Find 6\n",
      "Binary Search Find 6\n"
     ]
    }
   ],
   "source": [
    "arr = [1, 2, 3, 4, 6, 21, 25, 67, 89]\n",
    "search_element = 25\n",
    "\n",
    "def linear_search(arr, search_element):\n",
    "    find = -1\n",
    "    \n",
    "    for idx, element in enumerate(arr):\n",
    "        if element == search_element:\n",
    "            find = idx\n",
    "            break\n",
    "    return find\n",
    "\n",
    "def binary_search(arr, search_element):\n",
    "    lo, hi = 0, len(arr)\n",
    "    find = -1\n",
    "    while lo < hi:\n",
    "        mid = (lo + hi) // 2\n",
    "        if search_element == mid:\n",
    "            find = mid\n",
    "            break\n",
    "        elif search_element > arr[mid]:\n",
    "            lo = mid\n",
    "        elif search_element < arr[mid]:\n",
    "            hi = mid\n",
    "    return find\n",
    "\n",
    "print(\"Linear Search Find\", linear_search(arr, search_element))        \n",
    "print(\"Binary Search Find\", linear_search(arr, search_element))        "
   ]
  },
  {
   "cell_type": "markdown",
   "metadata": {},
   "source": [
    "**Q8**:  Input a text file (containing 1 or more paragraphs of English text) from the user, parse this file to display the frequency of occurrence of each word in this text file. Find the 3 most frequent words as well."
   ]
  },
  {
   "cell_type": "code",
   "execution_count": 44,
   "metadata": {},
   "outputs": [
    {
     "name": "stdout",
     "output_type": "stream",
     "text": [
      "{'the': 23, 'of': 16, '': 15, 'and': 14, 'to': 12, 'that': 11, 'my': 10, 'thou': 9, 'in': 7, 'is': 7, 'i': 6, 'have': 6, 'me': 5, 'which': 5, 'not': 5, 'wouldst': 5, 'they': 4, 'what': 4, 'it': 4, 'thee': 4, 'messenger': 4, 'by': 3, 'than': 3, 'from': 3, 'on': 3, 'with': 3, 'thy': 3, 'be': 3, 'for': 3, 'you': 3, 'more': 2, 'them': 2, 'mortal': 2, 'king': 2, 'shalt': 2, 'art': 2, 'yet': 2, 'do': 2, 'fear': 2, 'milk': 2, 'without': 2, 'should': 2, 'it:': 2, 'great': 2, 'spirits': 2, 'your': 2, 'lady': 2, 'macbeth': 2, 'who,': 2, 'would': 2, 'had': 2, 'make': 2, 'up': 2, 'come,': 2, 'thick': 2, 'nor': 2, 'met': 1, 'day': 1, 'success:': 1, 'learned': 1, 'perfectest': 1, 'report,': 1, 'knowledge.': 1, 'when': 1, 'burned': 1, 'desire': 1, 'question': 1, 'further,': 1, 'made': 1, 'themselves': 1, 'air,': 1, 'into': 1, 'vanished.': 1, 'whiles': 1, 'stood': 1, 'rapt': 1, 'wonder': 1, 'it,': 1, 'came': 1, 'missives': 1, 'king,': 1, 'who': 1, 'all-hailed': 1, '‘thane': 1, 'cawdor;’': 1, 'title,': 1, 'before,': 1, 'these': 1, 'weird': 1, 'sisters': 1, 'saluted': 1, 'me,': 1, 'referred': 1, 'coming': 1, 'time,': 1, '‘hail,': 1, 'be!’': 1, 'this': 1, 'thought': 1, 'good': 1, 'deliver': 1, 'thee,': 1, 'dearest': 1, 'partner': 1, 'greatness,': 1, 'mightst': 1, 'lose': 1, 'dues': 1, 'rejoicing,': 1, 'being': 1, 'ignorant': 1, 'greatness': 1, 'promised': 1, 'thee.': 1, 'lay': 1, 'heart,': 1, 'farewell.’': 1, 'glamis': 1, 'art,': 1, 'cawdor;': 1, 'promised:': 1, 'nature;': 1, 'too': 1, 'full': 1, 'o’': 1, 'human': 1, 'kindness': 1, 'catch': 1, 'nearest': 1, 'way:': 1, 'great;': 1, 'ambition,': 1, 'but': 1, 'illness': 1, 'attend': 1, 'highly,': 1, 'holily;': 1, 'play': 1, 'false,': 1, 'wrongly': 1, 'win:': 1, 'thou’ldst': 1, 'have,': 1, 'glamis,': 1, 'cries': 1, '‘thus': 1, 'must': 1, 'do,': 1, 'if': 1, 'it;': 1, 'rather': 1, 'dost': 1, 'wishest': 1, 'undone.’': 1, 'hie': 1, 'hither,': 1, 'may': 1, 'pour': 1, 'thine': 1, 'ear;': 1, 'chastise': 1, 'valour': 1, 'tongue': 1, 'all': 1, 'impedes': 1, 'golden': 1, 'round,': 1, 'fate': 1, 'metaphysical': 1, 'aid': 1, 'doth': 1, 'seem': 1, 'crown’d': 1, 'withal.': 1, 'enter': 1, 'a': 1, 'tidings?': 1, 'comes': 1, 'here': 1, 'to-night.': 1, 'thou’rt': 1, 'mad': 1, 'say': 1, 'master': 1, 'him?': 1, 'were’t': 1, 'so,': 1, 'inform’d': 1, 'preparation.': 1, 'so': 1, 'please': 1, 'you,': 1, 'true:': 1, 'our': 1, 'thane': 1, 'coming:': 1, 'one': 1, 'fellows': 1, 'speed': 1, 'him,': 1, 'almost': 1, 'dead': 1, 'breath,': 1, 'scarcely': 1, 'his': 1, 'message.': 1, 'give': 1, 'him': 1, 'tending;': 1, 'he': 1, 'brings': 1, 'news.': 1, 'exit': 1, 'raven': 1, 'himself': 1, 'hoarse': 1, 'croaks': 1, 'fatal': 1, 'entrance': 1, 'duncan': 1, 'under': 1, 'battlements.': 1, 'tend': 1, 'thoughts,': 1, 'unsex': 1, 'here,': 1, 'fill': 1, 'crown': 1, 'toe': 1, 'top-full': 1, 'direst': 1, 'cruelty!': 1, 'blood;': 1, 'stop': 1, 'access': 1, 'passage': 1, 'remorse,': 1, 'no': 1, 'compunctious': 1, 'visitings': 1, 'nature': 1, 'shake': 1, 'fell': 1, 'purpose,': 1, 'keep': 1, 'peace': 1, 'between': 1, 'effect': 1, 'it!': 1, 'come': 1, 'woman’s': 1, 'breasts,': 1, 'take': 1, 'gall,': 1, 'murdering': 1, 'ministers,': 1, 'wherever': 1, 'sightless': 1, 'substances': 1, 'wait': 1, 'nature’s': 1, 'mischief!': 1, 'night,': 1, 'pall': 1, 'dunnest': 1, 'smoke': 1, 'hell,': 1, 'keen': 1, 'knife': 1, 'see': 1, 'wound': 1, 'makes,': 1, 'heaven': 1, 'peep': 1, 'through': 1, 'blanket': 1, 'dark,': 1, 'cry': 1, '‘hold,': 1, 'hold!’': 1}\n"
     ]
    }
   ],
   "source": [
    "# Read the text\n",
    "f = open(\"macbeth_opening.txt\", \"r\").readlines()\n",
    "\n",
    "# Remove endline chars\n",
    "lines = [x.replace(\"\\n\", \"\").lower() for x in f]\n",
    "\n",
    "# Get words from each line\n",
    "all_words = []\n",
    "for line in lines:\n",
    "    words = line.split(\" \")\n",
    "    all_words.extend(words)\n",
    "\n",
    "# Do a frequency count for every word\n",
    "word_counts = {k: all_words.count(k) for k in all_words}\n",
    "sorted_words = sorted(word_counts, key = lambda x: word_counts[x], reverse=True)\n",
    "sorted_wcs = {k: word_counts[k] for k in sorted_words}\n",
    "\n",
    "print(sorted_wcs)"
   ]
  }
 ],
 "metadata": {
  "kernelspec": {
   "display_name": "Python 3",
   "language": "python",
   "name": "python3"
  },
  "language_info": {
   "codemirror_mode": {
    "name": "ipython",
    "version": 3
   },
   "file_extension": ".py",
   "mimetype": "text/x-python",
   "name": "python",
   "nbconvert_exporter": "python",
   "pygments_lexer": "ipython3",
   "version": "3.8.8"
  }
 },
 "nbformat": 4,
 "nbformat_minor": 4
}
