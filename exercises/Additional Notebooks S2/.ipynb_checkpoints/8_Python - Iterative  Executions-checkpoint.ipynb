{
 "cells": [
  {
   "cell_type": "markdown",
   "metadata": {},
   "source": [
    "<center> <img src =\"https://i.postimg.cc/1X8H7YYt/BITS-Logo.png\" width = \"400\" alt=\"BITS Pilani Logo\" /> </center>"
   ]
  },
  {
   "cell_type": "markdown",
   "metadata": {},
   "source": [
    "<font color='green'> <h1> <center> Python - Iterative  Executions </center> </h1> </font>\n"
   ]
  },
  {
   "cell_type": "markdown",
   "metadata": {},
   "source": [
    "Sometimes its required to execute the same code block multiple times. For example, if list of students marks is given and we need to compute the total or average marks of that class. We need to iterate over all students marks one by one and need to use each of them for the operation to be performed i.e. summation or averaging. In in each iteration, the opeartion is same but the data is changing. In such situations, loop statements helps us to execute same line of code multiple times in order to perform the same opeartion again and again. "
   ]
  },
  {
   "cell_type": "markdown",
   "metadata": {},
   "source": [
    "# While Statement"
   ]
  },
  {
   "cell_type": "markdown",
   "metadata": {},
   "source": [
    "While statement helps to execute the code multiple times based on certain logical condition. Until the condition evaluates to true, the statements within the while block are executed. Once the condition evaluates to false, then control does not enter into the while block statements and continues the execution of the code that follows after the while block."
   ]
  },
  {
   "cell_type": "code",
   "execution_count": null,
   "metadata": {},
   "outputs": [],
   "source": [
    "#iterate over the first five numbers \n",
    "\n",
    "my_number_list = range(5)  #generate first five integers starting from zero\n",
    "\n",
    "i = 0   # initialize the iteration variable \n",
    "while i < len(my_number_list):   #evaluate condition \n",
    "    print('(i)   ', i, \"    (number)   \", my_number_list[i])   # while block stmt 1\n",
    "    i = i + 1                                                  # while block stmt 2\n",
    "    \n",
    "print(\"Length of list \", len(my_number_list))    "
   ]
  },
  {
   "cell_type": "markdown",
   "metadata": {},
   "source": [
    "In above code block, the code flows like - <br>\n",
    "(1) first list of five integers is generated. <br>\n",
    "(2) iteration variable (whose value needs to be changed in every iteration, otherwise loop will never terminate) is initialized, i.e. i = 0<br>\n",
    "(3) While loop condition is evaluated to true or false. <br>\n",
    "(4) If the condition evaluated to true then statement within while loop are executed. One of the statement increments iteration variable value.<br>\n",
    "(5) Step 3 and 4 are executed until the condition evaluates to true.<br>\n",
    "(6) Once the condition evaluates to false, the next statement is executed, i.e. print statement<br>"
   ]
  },
  {
   "cell_type": "markdown",
   "metadata": {},
   "source": [
    "Earlier we have written the programs where we explicitly asked user to enter the number of times the loop needs to be executed. It restricts the user. In order to avoid that situation, we can ask user to enter a specific number to state us that he is done with the entering the input and now processing can happen."
   ]
  },
  {
   "cell_type": "code",
   "execution_count": null,
   "metadata": {},
   "outputs": [],
   "source": [
    "#Example for loop with fixed number of inputs\n",
    "count = 3\n",
    "for i in range(count):\n",
    "    name = input(\"Enter the name :\")\n",
    "    print('You entered ', name)"
   ]
  },
  {
   "cell_type": "code",
   "execution_count": null,
   "metadata": {},
   "outputs": [],
   "source": [
    "#Example while loop without any restrictions on number of inputs\n",
    "name = \"\"\n",
    "while name != \"Quit\":\n",
    "    name = input(\"Enter the name (use 'Quit' to stop :\")\n",
    "    if name != \"Quit\":\n",
    "        print('You entered ', name)"
   ]
  },
  {
   "cell_type": "markdown",
   "metadata": {},
   "source": [
    "# Infinite Loops"
   ]
  },
  {
   "cell_type": "code",
   "execution_count": null,
   "metadata": {},
   "outputs": [],
   "source": [
    "#Example of infinite loop\n",
    "i = 0 \n",
    "while i < 5 :\n",
    "    print(\"i \", i )\n",
    "print(\"Out of while loop\")    "
   ]
  },
  {
   "cell_type": "markdown",
   "metadata": {},
   "source": [
    "What is wrong with above code snippet. It will never terminate because value of iteration variable i.e. i is never changing. It will be always zero and hence the while loop condition will be always true and loop will be executed infinitely. Hence, while using loops one needs to keep in mind that iteration variable has to be changed. "
   ]
  },
  {
   "cell_type": "markdown",
   "metadata": {},
   "source": [
    "# Break Statement"
   ]
  },
  {
   "cell_type": "markdown",
   "metadata": {},
   "source": [
    "The break statement is use to break out of a loop before the loop is finished. "
   ]
  },
  {
   "cell_type": "code",
   "execution_count": null,
   "metadata": {},
   "outputs": [],
   "source": [
    "# Example\n",
    "i = 0           #iteration variable initialized\n",
    "while i < 5:    # condition is evaluated \n",
    "    print(i)    # block statements are executed until the condition is true i.e. 5 times\n",
    "    i = i + 1"
   ]
  },
  {
   "cell_type": "code",
   "execution_count": null,
   "metadata": {},
   "outputs": [],
   "source": [
    "# Example\n",
    "i = 0           #iteration variable initialized\n",
    "while i < 5:    # condition is evaluated \n",
    "    if i > 3 :   \n",
    "        break   # no more further execution of the loop, once i is greater than 4 \n",
    "    print(i)    # block statements are executed until the condition is true and iteration variable is less that 3\n",
    "    i = i + 1"
   ]
  },
  {
   "cell_type": "markdown",
   "metadata": {},
   "source": [
    "# Continue Statement "
   ]
  },
  {
   "cell_type": "markdown",
   "metadata": {},
   "source": [
    "Sometimes we want to finish the execution of the current iteration and jump to the next iteration without executing the further statements in the code block, then continue statement can be used. It helps to start a new iteration. "
   ]
  },
  {
   "cell_type": "code",
   "execution_count": null,
   "metadata": {},
   "outputs": [],
   "source": [
    "stmt = \"\"\n",
    "\n",
    "while stmt != 'Quit':\n",
    "    stmt = input(\"Enter the stmt (Use 'Quit' to stop )\")\n",
    "    if stmt.startswith(\"#\") :\n",
    "        continue\n",
    "    if len(stmt) > 0 :\n",
    "        print(stmt)\n"
   ]
  },
  {
   "cell_type": "markdown",
   "metadata": {},
   "source": [
    "In above code snippet, user enters the input statement. She can use \"Quit\" word to terminate the execution of code. \n",
    "Once the statement is received, the code checks whether it starts with '#'. If yes, no further statements in the block are executed. It directly jumps to the next iteration. If the statement does not start with '#' then further it checks if the statement has some characters in it or not. If yes, the statement is printed back again. "
   ]
  },
  {
   "cell_type": "markdown",
   "metadata": {},
   "source": [
    "# For Statement "
   ]
  },
  {
   "cell_type": "markdown",
   "metadata": {},
   "source": [
    "Computers are experts at doing things in repeated manner, especially without any errors. Python for loops in one of the ways by\n",
    "which the code blocks can be executed in the repetative manners, same as while loops. With for loops, in advance you how many times the code execution will be repeated which is not the case with while loops. "
   ]
  },
  {
   "cell_type": "code",
   "execution_count": null,
   "metadata": {},
   "outputs": [],
   "source": [
    "#Example : print Hello five times\n",
    "for i in range(5):\n",
    "    print(\"Hello\")"
   ]
  },
  {
   "cell_type": "markdown",
   "metadata": {},
   "source": [
    "In the for statement, word for is in lower case followed by loop variable ending with colon. The for loop statements needs to be indendated at same level. "
   ]
  },
  {
   "cell_type": "code",
   "execution_count": null,
   "metadata": {},
   "outputs": [],
   "source": [
    "#Example : Compute cube of a number three times (take three inputs)\n",
    "for i in range(3):\n",
    "    number = int(input(\"Enter the number\"))\n",
    "    print(\"the cube is \" , number*number*number )"
   ]
  },
  {
   "cell_type": "code",
   "execution_count": null,
   "metadata": {},
   "outputs": [],
   "source": [
    "#Example : print first five integers\n",
    "for i in range(5):\n",
    "    print(i)"
   ]
  },
  {
   "cell_type": "markdown",
   "metadata": {},
   "source": [
    "Here we expected that the program should print numbers 1 to 5 but actually it printed 0 to 4. This is because the loop variable i.e. i is always initialized to zero and then incremented by one after each iteration. The program loops 5 times, each time increasing the value of i by 1 , until we have looped five times. "
   ]
  },
  {
   "cell_type": "code",
   "execution_count": null,
   "metadata": {},
   "outputs": [],
   "source": [
    "#Example : print first five integers along with value of i\n",
    "for i in range(5):\n",
    "    print(\"(i)  \", i, \"(number) \" , i+1)"
   ]
  },
  {
   "cell_type": "markdown",
   "metadata": {},
   "source": [
    "# Range function"
   ]
  },
  {
   "cell_type": "markdown",
   "metadata": {},
   "source": [
    "The range function helps to generate the range of numbers based on given inputs to it. The value we put in range function determines how many times the loop should be executed. range function produces a list of numbers from zero to the value minus one. For example, range(3) generates 3 values : 0, 1 and 2."
   ]
  },
  {
   "cell_type": "markdown",
   "metadata": {},
   "source": [
    "Syntax - range(start_value, end_value, step) "
   ]
  },
  {
   "cell_type": "code",
   "execution_count": null,
   "metadata": {},
   "outputs": [],
   "source": [
    "#Examples\n",
    "\n",
    "range(5)                  # produces  five values 0, 1, 2, 3, 4\n",
    "range(1, 5)               # produces  four values 1, 2, 3, 4\n",
    "range(2, 4)               # produces  two values 2, 3\n",
    "range(1, 10, 2)           # produces values starting from zero to nine , at step of 2 i.e. 1, 3, 5, 7, 9\n",
    "range(9, 2, -1)           # produces values starting from nine to three , at step of -1 i.e. 9, 8, 7, 6, 5, 4, 3"
   ]
  },
  {
   "cell_type": "code",
   "execution_count": null,
   "metadata": {},
   "outputs": [],
   "source": [
    "for i in range(9, 2, -1):\n",
    "    print(i)"
   ]
  },
  {
   "cell_type": "markdown",
   "metadata": {},
   "source": [
    "#  For loop Variations"
   ]
  },
  {
   "cell_type": "code",
   "execution_count": null,
   "metadata": {},
   "outputs": [],
   "source": [
    "# iterate over values directly\n",
    "for i in (11,31,51):\n",
    "    print(i)"
   ]
  },
  {
   "cell_type": "code",
   "execution_count": null,
   "metadata": {},
   "outputs": [],
   "source": [
    "# iterate fixed number of times\n",
    "for i in range(3):\n",
    "    print(i)"
   ]
  },
  {
   "cell_type": "code",
   "execution_count": null,
   "metadata": {},
   "outputs": [],
   "source": [
    "# iterate fixed number of times with start and end value\n",
    "for i in range(1, 5):\n",
    "    print(i)"
   ]
  },
  {
   "cell_type": "code",
   "execution_count": null,
   "metadata": {},
   "outputs": [],
   "source": [
    "# iterate fixed number of times with start and end value with gaps in between\n",
    "for i in range(1, 5, 2):\n",
    "    print(i)"
   ]
  },
  {
   "cell_type": "code",
   "execution_count": null,
   "metadata": {},
   "outputs": [],
   "source": [
    "#iterate over list of values \n",
    "\n",
    "scores = [23, 34, 12, 34, 45]\n",
    "length = len(scores)\n",
    "\n",
    "for i in range(length):\n",
    "    print(scores[i])"
   ]
  },
  {
   "cell_type": "code",
   "execution_count": null,
   "metadata": {},
   "outputs": [],
   "source": [
    "#iterate over list of values directly\n",
    "\n",
    "scores = [23, 34, 12, 34, 45]\n",
    "\n",
    "for score in scores:\n",
    "    print(score)"
   ]
  },
  {
   "cell_type": "code",
   "execution_count": null,
   "metadata": {},
   "outputs": [],
   "source": [
    "#iterate over list of values directly along with index\n",
    "squares = [0, 1, 4, 9, 16]\n",
    "\n",
    "for i, square in enumerate(squares):\n",
    "    print(\"index : \", i, \"  \", \"value : \" , square)"
   ]
  },
  {
   "cell_type": "code",
   "execution_count": null,
   "metadata": {},
   "outputs": [],
   "source": [
    "#iterate over strings directly\n",
    "\n",
    "my_string = \"this is demo\"\n",
    "\n",
    "for letter in my_string:\n",
    "    print(letter)"
   ]
  },
  {
   "cell_type": "code",
   "execution_count": null,
   "metadata": {},
   "outputs": [],
   "source": [
    "#iterate over tuple elements directly\n",
    "\n",
    "my_tuple = (1, 'two', 3.4, True)\n",
    "\n",
    "for element in my_tuple:\n",
    "    print(element)"
   ]
  },
  {
   "cell_type": "code",
   "execution_count": null,
   "metadata": {},
   "outputs": [],
   "source": [
    "#iterate over set elements directly\n",
    "\n",
    "my_set = {1, 'two', 3.4, True}\n",
    "\n",
    "for element in my_set:\n",
    "    print(element)"
   ]
  },
  {
   "cell_type": "code",
   "execution_count": null,
   "metadata": {},
   "outputs": [],
   "source": [
    "#iterate over dictionary elements directly\n",
    "\n",
    "my_dict = {\"key1\": \"value1\", \"key2\":\"value2\"}\n",
    "\n",
    "for item in my_dict.items():\n",
    "    print(item)"
   ]
  },
  {
   "cell_type": "code",
   "execution_count": null,
   "metadata": {},
   "outputs": [],
   "source": [
    "#iterate over dictionary keys directly\n",
    "\n",
    "my_dict = {\"key1\": \"value1\", \"key2\":\"value2\"}\n",
    "\n",
    "for key in my_dict.keys():\n",
    "    print(key)"
   ]
  },
  {
   "cell_type": "code",
   "execution_count": null,
   "metadata": {},
   "outputs": [],
   "source": [
    "#iterate over dictionary values directly\n",
    "\n",
    "my_dict = {\"key1\": \"value1\", \"key2\":\"value2\"}\n",
    "\n",
    "for value in my_dict.values():\n",
    "    print(value)"
   ]
  },
  {
   "cell_type": "markdown",
   "metadata": {},
   "source": [
    "# Exercise"
   ]
  },
  {
   "cell_type": "markdown",
   "metadata": {},
   "source": [
    "Q1. Write a program using while loop that prints square and cube of numbers between 1 to 10."
   ]
  },
  {
   "cell_type": "code",
   "execution_count": 1,
   "metadata": {},
   "outputs": [
    {
     "name": "stdout",
     "output_type": "stream",
     "text": [
      "Number 1 Square 1 Cube 1\n",
      "Number 2 Square 4 Cube 8\n",
      "Number 3 Square 9 Cube 27\n",
      "Number 4 Square 16 Cube 64\n",
      "Number 5 Square 25 Cube 125\n",
      "Number 6 Square 36 Cube 216\n",
      "Number 7 Square 49 Cube 343\n",
      "Number 8 Square 64 Cube 512\n",
      "Number 9 Square 81 Cube 729\n",
      "Number 10 Square 100 Cube 1000\n"
     ]
    }
   ],
   "source": [
    "#Try it here :\n",
    "for i in range(1, 11):\n",
    "    print(\"Number\", i, \"Square\", i * i, \"Cube\", i * i * i)"
   ]
  },
  {
   "cell_type": "markdown",
   "metadata": {},
   "source": [
    "Q2. Write a program that uses for loop to print numbers 100, 96, 92, 88 ..., 4. "
   ]
  },
  {
   "cell_type": "code",
   "execution_count": 7,
   "metadata": {},
   "outputs": [
    {
     "name": "stdout",
     "output_type": "stream",
     "text": [
      "100 96 92 88 84 80 76 72 68 64 60 56 52 48 44 40 36 32 28 24 20 16 12 8 4 "
     ]
    }
   ],
   "source": [
    "#Try it here :\n",
    "for i in range(100, 3, -1):\n",
    "    if i % 4 == 0:\n",
    "        print(i, end = \" \")"
   ]
  },
  {
   "cell_type": "markdown",
   "metadata": {},
   "source": [
    "Q3. Use a for loop to print a triangle like the one below. Allow the user to specify how high the triangle should be. <br>\n",
    "@<br>\n",
    "@@<br>\n",
    "@@@<br>\n",
    "@@@@<br>"
   ]
  },
  {
   "cell_type": "code",
   "execution_count": 9,
   "metadata": {},
   "outputs": [
    {
     "name": "stdin",
     "output_type": "stream",
     "text": [
      "How high should the triangle be? 10\n"
     ]
    },
    {
     "name": "stdout",
     "output_type": "stream",
     "text": [
      "@\n",
      "@@\n",
      "@@@\n",
      "@@@@\n",
      "@@@@@\n",
      "@@@@@@\n",
      "@@@@@@@\n",
      "@@@@@@@@\n",
      "@@@@@@@@@\n",
      "@@@@@@@@@@\n"
     ]
    }
   ],
   "source": [
    "#Try it here :\n",
    "height = eval(input(\"How high should the triangle be?\"))\n",
    "for i in range(height):\n",
    "    print(\"@\" * (i + 1))"
   ]
  },
  {
   "cell_type": "markdown",
   "metadata": {},
   "source": [
    "Q4. Write a program that asks the user to enter the password. If the user enters the right password, the program should tell them they are logged in to the system. Otherwise, the program should ask them to reenter the password. The user should get only five tries to enter the password, after which point the program should tell them that they are kicked off of the system."
   ]
  },
  {
   "cell_type": "code",
   "execution_count": 13,
   "metadata": {},
   "outputs": [
    {
     "name": "stdin",
     "output_type": "stream",
     "text": [
      "Please enter the password qw\n",
      "Please enter the password sa\n",
      "Please enter the password weertr\n",
      "Please enter the password sss\n",
      "Please enter the password s\n"
     ]
    },
    {
     "name": "stdout",
     "output_type": "stream",
     "text": [
      "You're kicked out of the system\n"
     ]
    }
   ],
   "source": [
    "#Try it here :\n",
    "right_password = \"password\"\n",
    "for i in range(5):\n",
    "    pw = input(\"Please enter the password\")\n",
    "    if pw == right_password:\n",
    "        print(\"Logged in\")\n",
    "        break\n",
    "    continue\n",
    "if i == 4:\n",
    "    print(\"You're kicked out of the system\")"
   ]
  },
  {
   "cell_type": "markdown",
   "metadata": {},
   "source": [
    "# Answers"
   ]
  },
  {
   "cell_type": "code",
   "execution_count": null,
   "metadata": {},
   "outputs": [],
   "source": [
    "#Solution 1\n",
    "number = 1\n",
    "while number <=10 : \n",
    "    print(\"number \", number, \"   square   \", number * number, \"   cube   \", number * number*number)\n",
    "    number = number + 1"
   ]
  },
  {
   "cell_type": "code",
   "execution_count": null,
   "metadata": {},
   "outputs": [],
   "source": [
    "#Solution 2\n",
    "number = 100\n",
    "for i in range(100, 0, -4):\n",
    "    print(i)"
   ]
  },
  {
   "cell_type": "code",
   "execution_count": 10,
   "metadata": {},
   "outputs": [
    {
     "name": "stdout",
     "output_type": "stream",
     "text": [
      "Enter the height of triangle\n",
      "6\n",
      "\n",
      "@\n",
      "@@\n",
      "@@@\n",
      "@@@@\n",
      "@@@@@\n",
      "@@@@@@\n"
     ]
    }
   ],
   "source": [
    "#Solution 3\n",
    "\n",
    "times = int(input(\"Enter the height of triangle\\n\"))\n",
    "print()\n",
    "\n",
    "items = []\n",
    "for i in range(times):\n",
    "    items.append(i+1)\n",
    "\n",
    "for x in items:\n",
    "    print(x * \"@\")\n"
   ]
  },
  {
   "cell_type": "code",
   "execution_count": 15,
   "metadata": {},
   "outputs": [
    {
     "name": "stdout",
     "output_type": "stream",
     "text": [
      "Please enter the password \n",
      "asdf\n",
      "Please enter the password \n",
      "erete\n",
      "Please enter the password \n",
      "password\n",
      "You are logged in!\n"
     ]
    }
   ],
   "source": [
    "#Solution 4\n",
    "\n",
    "password = \"password\"\n",
    "times = 5 \n",
    "match_found = False\n",
    "\n",
    "for i in range(times):\n",
    "    user_password = input(\"Please enter the password \\n\")\n",
    "    if user_password == password:\n",
    "        match_found = True\n",
    "        print(\"You are logged in!\")\n",
    "        break\n",
    "        \n",
    "if not(match_found) :\n",
    "    print(\"You have used all the attempts for login\")\n",
    "\n"
   ]
  },
  {
   "cell_type": "code",
   "execution_count": null,
   "metadata": {},
   "outputs": [],
   "source": []
  }
 ],
 "metadata": {
  "kernelspec": {
   "display_name": "Python 3",
   "language": "python",
   "name": "python3"
  },
  "language_info": {
   "codemirror_mode": {
    "name": "ipython",
    "version": 3
   },
   "file_extension": ".py",
   "mimetype": "text/x-python",
   "name": "python",
   "nbconvert_exporter": "python",
   "pygments_lexer": "ipython3",
   "version": "3.8.8"
  }
 },
 "nbformat": 4,
 "nbformat_minor": 4
}
