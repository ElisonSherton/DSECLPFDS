{
 "cells": [
  {
   "cell_type": "markdown",
   "metadata": {},
   "source": [
    "<center> <img src =\"https://i.postimg.cc/1X8H7YYt/BITS-Logo.png\" width = \"400\" alt=\"BITS Pilani Logo\" /> </center>"
   ]
  },
  {
   "cell_type": "markdown",
   "metadata": {},
   "source": [
    "<font color='green'> <h1> <center> Python - Lists </center> </h1> </font>"
   ]
  },
  {
   "cell_type": "markdown",
   "metadata": {},
   "source": [
    "Lists are ordered collection of elements. The elements can be of any type like strings, numbers, booleans, lists, tuples etc. Each element of list has an address associated with it i.e. index. This index can be used to get access to the list elements. "
   ]
  },
  {
   "cell_type": "markdown",
   "metadata": {},
   "source": [
    "<b>Creation<b>"
   ]
  },
  {
   "cell_type": "markdown",
   "metadata": {},
   "source": [
    "Empty list can be created with two ways. Usually [] brackets are used to define a list , whereas the list() function is used for the creation of list from other collection. "
   ]
  },
  {
   "cell_type": "code",
   "execution_count": null,
   "metadata": {},
   "outputs": [],
   "source": [
    "empty_list = []\n",
    "empty_list"
   ]
  },
  {
   "cell_type": "code",
   "execution_count": null,
   "metadata": {},
   "outputs": [],
   "source": [
    "other_empty_list = list()\n",
    "other_empty_list"
   ]
  },
  {
   "cell_type": "markdown",
   "metadata": {},
   "source": [
    "List can have multiple element into it."
   ]
  },
  {
   "cell_type": "code",
   "execution_count": null,
   "metadata": {},
   "outputs": [],
   "source": [
    "my_number_list = [1, 2, 3, 4, 5, 6, 7]\n",
    "my_number_list"
   ]
  },
  {
   "cell_type": "markdown",
   "metadata": {},
   "source": [
    "But it can hold elements of different kind as well."
   ]
  },
  {
   "cell_type": "code",
   "execution_count": null,
   "metadata": {},
   "outputs": [],
   "source": [
    "my_mixed_list = [1, 1.1, 'a', True]\n",
    "my_mixed_list"
   ]
  },
  {
   "cell_type": "markdown",
   "metadata": {},
   "source": [
    "Type of list can be checked with type() funtion. "
   ]
  },
  {
   "cell_type": "code",
   "execution_count": null,
   "metadata": {},
   "outputs": [],
   "source": [
    "type(my_mixed_list)"
   ]
  },
  {
   "cell_type": "markdown",
   "metadata": {},
   "source": [
    "Type of individual elements can be checked by accessing them with index."
   ]
  },
  {
   "cell_type": "code",
   "execution_count": null,
   "metadata": {},
   "outputs": [],
   "source": [
    "type(my_mixed_list[0])  #first element is integer"
   ]
  },
  {
   "cell_type": "code",
   "execution_count": null,
   "metadata": {},
   "outputs": [],
   "source": [
    "type(my_mixed_list[1])  #second element is float"
   ]
  },
  {
   "cell_type": "markdown",
   "metadata": {},
   "source": [
    "Length of list can be determined using the len() fuction. "
   ]
  },
  {
   "cell_type": "code",
   "execution_count": null,
   "metadata": {},
   "outputs": [],
   "source": [
    "len(my_number_list)"
   ]
  },
  {
   "cell_type": "code",
   "execution_count": null,
   "metadata": {},
   "outputs": [],
   "source": [
    "len(my_mixed_list)"
   ]
  },
  {
   "cell_type": "markdown",
   "metadata": {},
   "source": [
    "List can be printed using the print() function. "
   ]
  },
  {
   "cell_type": "code",
   "execution_count": null,
   "metadata": {},
   "outputs": [],
   "source": [
    "print(my_number_list)"
   ]
  },
  {
   "cell_type": "code",
   "execution_count": null,
   "metadata": {},
   "outputs": [],
   "source": [
    "print(my_mixed_list)"
   ]
  },
  {
   "cell_type": "markdown",
   "metadata": {},
   "source": [
    "<b>Concatenation and Repetition<b>"
   ]
  },
  {
   "cell_type": "markdown",
   "metadata": {},
   "source": [
    "'+' can be used to add one list to the another. "
   ]
  },
  {
   "cell_type": "code",
   "execution_count": null,
   "metadata": {},
   "outputs": [],
   "source": [
    "list1 = [1, 2, 3]\n",
    "list2 = [4, 5]\n",
    "join_list = list1 + list2\n",
    "join_list"
   ]
  },
  {
   "cell_type": "markdown",
   "metadata": {},
   "source": [
    "'*' can be used to repeat the elements of the list."
   ]
  },
  {
   "cell_type": "code",
   "execution_count": null,
   "metadata": {},
   "outputs": [],
   "source": [
    "list3 = [1, 2, 3] * 3 # repeat the element 1,2,3 three times in a list\n",
    "list3"
   ]
  },
  {
   "cell_type": "code",
   "execution_count": null,
   "metadata": {},
   "outputs": [],
   "source": [
    "[0] * 5 # repeat the element zero five times in a list"
   ]
  },
  {
   "cell_type": "markdown",
   "metadata": {},
   "source": [
    "<b> Indices<b>"
   ]
  },
  {
   "cell_type": "markdown",
   "metadata": {},
   "source": [
    "Index is the location where the list element is present in the list. List elements are ordered i.e. they maintain the order in which they are inserted into the list. Indexing starts from zero. "
   ]
  },
  {
   "cell_type": "code",
   "execution_count": null,
   "metadata": {},
   "outputs": [],
   "source": [
    "my_list = [1, 1.1, 'a', True]\n",
    "my_list"
   ]
  },
  {
   "cell_type": "code",
   "execution_count": null,
   "metadata": {},
   "outputs": [],
   "source": [
    "my_list[0]  # access first element of list"
   ]
  },
  {
   "cell_type": "code",
   "execution_count": null,
   "metadata": {},
   "outputs": [],
   "source": [
    "my_list[len(my_list) - 1] # aceess the last element of list"
   ]
  },
  {
   "cell_type": "markdown",
   "metadata": {},
   "source": [
    "Negative indexing is also allowed on the lists."
   ]
  },
  {
   "cell_type": "code",
   "execution_count": null,
   "metadata": {},
   "outputs": [],
   "source": [
    "print(my_list[0] , \"    \" , my_list[-4])\n",
    "print(my_list[1] , \"    \" , my_list[-3])\n",
    "print(my_list[2] , \"    \" , my_list[-2])\n",
    "print(my_list[3] , \"    \" , my_list[-1])"
   ]
  },
  {
   "cell_type": "markdown",
   "metadata": {},
   "source": [
    "<b> Slicing <b>"
   ]
  },
  {
   "cell_type": "markdown",
   "metadata": {},
   "source": [
    "Slice is portion of list accessed using the indices. [] operator allows us to extract part of list using the indices."
   ]
  },
  {
   "cell_type": "code",
   "execution_count": null,
   "metadata": {},
   "outputs": [],
   "source": [
    "my_list = [1, 1.1, 'a', True]\n",
    "my_list"
   ]
  },
  {
   "cell_type": "code",
   "execution_count": null,
   "metadata": {},
   "outputs": [],
   "source": [
    "my_list[ : ]  # extracts complete list"
   ]
  },
  {
   "cell_type": "code",
   "execution_count": null,
   "metadata": {},
   "outputs": [],
   "source": [
    "my_list[ 0 : 3 ]  # extracts first three elements of list"
   ]
  },
  {
   "cell_type": "code",
   "execution_count": null,
   "metadata": {},
   "outputs": [],
   "source": [
    "my_list[ 2 : 3 ]  # extracts third element of list"
   ]
  },
  {
   "cell_type": "code",
   "execution_count": null,
   "metadata": {},
   "outputs": [],
   "source": [
    "my_list[ 3 :  ]  # extract all elements of list from thrid element onwards"
   ]
  },
  {
   "cell_type": "code",
   "execution_count": null,
   "metadata": {},
   "outputs": [],
   "source": [
    "my_list[  : 2 ]  # extracts first two elements of list"
   ]
  },
  {
   "cell_type": "code",
   "execution_count": null,
   "metadata": {},
   "outputs": [],
   "source": [
    "my_list[ 0 : 4 : 2] # from first to fourth element, extract every second element"
   ]
  },
  {
   "cell_type": "code",
   "execution_count": null,
   "metadata": {},
   "outputs": [],
   "source": [
    "my_list[-2 : ] # extract last two elements of list"
   ]
  },
  {
   "cell_type": "markdown",
   "metadata": {},
   "source": [
    "<b>The in operator<b>"
   ]
  },
  {
   "cell_type": "markdown",
   "metadata": {},
   "source": [
    "The in operator is helpful to find out if a list contains an element in it or not. "
   ]
  },
  {
   "cell_type": "code",
   "execution_count": null,
   "metadata": {},
   "outputs": [],
   "source": [
    "my_list = [1, 1.1, 'a', True]\n",
    "my_list"
   ]
  },
  {
   "cell_type": "code",
   "execution_count": null,
   "metadata": {},
   "outputs": [],
   "source": [
    "1 in my_list  # check whether 1 is present in list"
   ]
  },
  {
   "cell_type": "code",
   "execution_count": null,
   "metadata": {},
   "outputs": [],
   "source": [
    "1 not in my_list # check whether 1 is not present in list"
   ]
  },
  {
   "cell_type": "code",
   "execution_count": null,
   "metadata": {},
   "outputs": [],
   "source": [
    "'this' in my_list #check whether 'this' is present in the list or not"
   ]
  },
  {
   "cell_type": "markdown",
   "metadata": {},
   "source": [
    "<b>Looping<b>"
   ]
  },
  {
   "cell_type": "markdown",
   "metadata": {},
   "source": [
    "One can iterate over the elements present in the list using the for loop."
   ]
  },
  {
   "cell_type": "code",
   "execution_count": null,
   "metadata": {},
   "outputs": [],
   "source": [
    "my_list = [1, 1.1, 'a', True]\n",
    "my_list"
   ]
  },
  {
   "cell_type": "code",
   "execution_count": null,
   "metadata": {},
   "outputs": [],
   "source": [
    "for element in my_list:\n",
    "    print(element)"
   ]
  },
  {
   "cell_type": "code",
   "execution_count": null,
   "metadata": {},
   "outputs": [],
   "source": [
    "for i in range(len(my_list)):\n",
    "    print( \"(\", i, \") element -----> \", my_list[i])"
   ]
  },
  {
   "cell_type": "markdown",
   "metadata": {},
   "source": [
    "<b> Built-in fuctions<b>"
   ]
  },
  {
   "cell_type": "markdown",
   "metadata": {},
   "source": [
    "Some useful built in functions available on the list containing elements of same type :"
   ]
  },
  {
   "cell_type": "code",
   "execution_count": null,
   "metadata": {},
   "outputs": [],
   "source": [
    "my_number_list = [1, 2, 3, 4, 5]\n",
    "my_number_list"
   ]
  },
  {
   "cell_type": "markdown",
   "metadata": {},
   "source": [
    "sum() can be used to get sum of all elements in list. "
   ]
  },
  {
   "cell_type": "code",
   "execution_count": null,
   "metadata": {},
   "outputs": [],
   "source": [
    "sum(my_number_list)"
   ]
  },
  {
   "cell_type": "markdown",
   "metadata": {},
   "source": [
    "min() can be used to get minimum value out of all elements in list. "
   ]
  },
  {
   "cell_type": "code",
   "execution_count": null,
   "metadata": {},
   "outputs": [],
   "source": [
    "min(my_number_list)"
   ]
  },
  {
   "cell_type": "markdown",
   "metadata": {},
   "source": [
    "max() can be used to get maximum value out of all elements in list. "
   ]
  },
  {
   "cell_type": "code",
   "execution_count": null,
   "metadata": {},
   "outputs": [],
   "source": [
    "max(my_number_list)"
   ]
  },
  {
   "cell_type": "markdown",
   "metadata": {},
   "source": [
    "<b> List aliasing<b>"
   ]
  },
  {
   "cell_type": "markdown",
   "metadata": {},
   "source": [
    "The same list can be referred by two different list variables. Changing the one list affects the other as well. "
   ]
  },
  {
   "cell_type": "code",
   "execution_count": null,
   "metadata": {},
   "outputs": [],
   "source": [
    "list1 = [1, 2, 3, 4, 5]\n",
    "print(\"Original list1\")\n",
    "print(\"list1---->   \", list1)\n",
    "\n",
    "print()\n",
    "\n",
    "list2 = list1  # list2 is referring to list1, both having same elements\n",
    "print(\"List2 is referring to list1, both having same elements\")\n",
    "print(\"list1---->   \", list1)\n",
    "print(\"list2---->   \", list2)\n",
    "\n",
    "\n",
    "print()\n",
    "#Alter the element of list1 , both lists will get altered\n",
    "list1[0] = 'a' #change first element of list1 \n",
    "print(\"After aletring the first element of list1, list2 is also altered\")\n",
    "print(\"list1---->   \", list1)\n",
    "print(\"list2---->   \", list2)\n",
    "\n",
    "print()\n",
    "#Alter the element of list2 , both lists will get altered\n",
    "list2[3] = '******' #change fourth element of list2\n",
    "print(\"After aletring the fourth element of list2, list1 is also altered\")\n",
    "print(\"list2---->   \", list2)\n",
    "print(\"list1---->   \", list1)"
   ]
  },
  {
   "cell_type": "markdown",
   "metadata": {},
   "source": [
    "<b> List copying<b>"
   ]
  },
  {
   "cell_type": "markdown",
   "metadata": {},
   "source": [
    "In order to avoid the side effect, list elements can be copied using the following way. By that way, alterations in one list does not affect the elements in the other list from which its copied."
   ]
  },
  {
   "cell_type": "markdown",
   "metadata": {},
   "source": [
    "There are three ways of list copying. <br>\n",
    "    new_list = orig_list.copy()<br>\n",
    "    new_list = orig_list[:] <br>\n",
    "    new_list = list(orig_list) <br>"
   ]
  },
  {
   "cell_type": "code",
   "execution_count": null,
   "metadata": {},
   "outputs": [],
   "source": [
    "list1 = [1, 2, 3, 4, 5]\n",
    "print(\"Original list1\")\n",
    "print(\"list1---->   \", list1)\n",
    "\n",
    "print()\n",
    "\n",
    "list2 = list1[:]  # copy all elements of list1 into list2\n",
    "print(\"List1 and list2 are two different list , both having same elements\")\n",
    "print(\"list1---->   \", list1)\n",
    "print(\"list2---->   \", list2)\n",
    "\n",
    "\n",
    "print()\n",
    "#Alter the element of list1 \n",
    "list1[0] = 'a' #change first element of list1 \n",
    "print(\"After aletring the first element of list1, list2 is not altered\")\n",
    "print(\"list1---->   \", list1)\n",
    "print(\"list2---->   \", list2)\n",
    "\n",
    "print()\n",
    "#Alter the element of list2 \n",
    "list2[3] = '******' #change fourth element of list2\n",
    "print(\"After aletring the fourth element of list2, list1 is not altered\")\n",
    "print(\"list2---->   \", list2)\n",
    "print(\"list1---->   \", list1)"
   ]
  },
  {
   "cell_type": "markdown",
   "metadata": {},
   "source": [
    "# Exercise"
   ]
  },
  {
   "cell_type": "markdown",
   "metadata": {},
   "source": [
    "Q1. Write a program that accepts 5 integers from the user. Store those integers as part of list. Output the following without using any of the built-in fuction available : <br>\n",
    "    (a) square of all the integers in the list <br>\n",
    "    (b) sum of all the integers in the list    <br>\n",
    "    (c) product of all the integers in the list <br>"
   ]
  },
  {
   "cell_type": "code",
   "execution_count": 6,
   "metadata": {},
   "outputs": [
    {
     "name": "stdin",
     "output_type": "stream",
     "text": [
      "Enter 1th number 5\n",
      "Enter 2th number 5\n",
      "Enter 3th number 2\n",
      "Enter 4th number 2\n",
      "Enter 5th number 1\n"
     ]
    },
    {
     "name": "stdout",
     "output_type": "stream",
     "text": [
      "Squares [25, 25, 4, 4, 1]\n",
      "Sum 15\n",
      "Product 100\n"
     ]
    }
   ],
   "source": [
    "#Try it here\n",
    "numbers = []\n",
    "for i in range(5):\n",
    "    n = eval(input(\"Enter \" + str(i + 1) + \"th number\"))\n",
    "    numbers.append(n)\n",
    "\n",
    "squares = []\n",
    "for n in numbers: squares.append(n * n)\n",
    "\n",
    "product = 1\n",
    "for n in numbers: product = product * n\n",
    "print(\"Squares\", squares)\n",
    "print(\"Sum\", sum(numbers))\n",
    "print(\"Product\", product)"
   ]
  },
  {
   "cell_type": "markdown",
   "metadata": {},
   "source": [
    "Q2. Write a program that will reverse the elements of the list without using any built-in function."
   ]
  },
  {
   "cell_type": "code",
   "execution_count": 7,
   "metadata": {},
   "outputs": [
    {
     "data": {
      "text/plain": [
       "[5, 4, 3, 2, 1]"
      ]
     },
     "execution_count": 7,
     "metadata": {},
     "output_type": "execute_result"
    }
   ],
   "source": [
    "#Try it here\n",
    "l = [1, 2, 3, 4, 5]\n",
    "l[::-1]"
   ]
  },
  {
   "cell_type": "markdown",
   "metadata": {},
   "source": [
    "Q3. Start with the list [ 8, 9 , 10]. Do the following :<br>\n",
    "    (a) Set the second entry to 17 <br>\n",
    "    (b) Add 4,5, and 6 to the end of list<br>\n",
    "    (c) Remove the first entry from the list<br>\n",
    "    (d) Double the list<br>\n",
    "    (e) Insert 25 at the index 3 <br><br>\n",
    "    \n",
    "    The final list should look like [17, 10, 4, 25, 5, 6, 17, 10, 4, 5, 6 ]"
   ]
  },
  {
   "cell_type": "code",
   "execution_count": 8,
   "metadata": {},
   "outputs": [
    {
     "name": "stdout",
     "output_type": "stream",
     "text": [
      "[17, 10, 4, 25, 5, 6, 17, 10, 4, 5, 6]\n"
     ]
    }
   ],
   "source": [
    "#Try it here\n",
    "l = [8, 9, 10]\n",
    "l[1] = 17\n",
    "l = l + [4, 5, 6]\n",
    "l = l[1:]\n",
    "l = l + l\n",
    "l.insert(3, 25)\n",
    "print(l)\n",
    "assert l == [17, 10, 4, 25, 5, 6, 17, 10, 4, 5, 6 ]"
   ]
  },
  {
   "cell_type": "markdown",
   "metadata": {},
   "source": [
    "# Answer"
   ]
  },
  {
   "cell_type": "code",
   "execution_count": null,
   "metadata": {},
   "outputs": [],
   "source": [
    "#Q1 Solution\n",
    "\n",
    "count = 3\n",
    "\n",
    "number_list = []\n",
    "\n",
    "for i in range(count):\n",
    "    number = int(input(\"Enter an integer\\n\"))\n",
    "    number_list.append(number)\n",
    "\n",
    "sum = 0 \n",
    "product = 1 \n",
    "sq_number_list = []\n",
    "\n",
    "for number in number_list:\n",
    "    sum = sum + number\n",
    "    product = product * number\n",
    "    square = number * number \n",
    "    sq_number_list.append(square)\n",
    "    \n",
    "    \n",
    "print()\n",
    "print(\"The sum of all numbers is \" , sum)\n",
    "print(\"The product of all numbers is \" , product)\n",
    "print(\"The square of number is\")\n",
    "for i in range(len(number_list)):\n",
    "    print(\"number-->  \", number_list[i], \"   square --->\", sq_number_list[i])"
   ]
  },
  {
   "cell_type": "code",
   "execution_count": null,
   "metadata": {},
   "outputs": [],
   "source": [
    "#Q2 Solution\n",
    "\n",
    "orig_list = ['a', 'b', 'c', 'd', 'e']\n",
    "\n",
    "orig_list\n",
    "\n",
    "length = len(orig_list)\n",
    "length = length * (-1)\n",
    "\n",
    "for i in range(-1, length - 1, -1 ):\n",
    "    print(orig_list[i])"
   ]
  },
  {
   "cell_type": "code",
   "execution_count": null,
   "metadata": {},
   "outputs": [],
   "source": [
    "#Q3 Solution\n",
    "\n",
    "L = [ 8, 9 , 10]\n",
    "print(\"Original list \", L)\n",
    "\n",
    "#(a) Set the second entry to 17 \n",
    "L[1] = 17 \n",
    "print()\n",
    "print(\"(a) Set the second entry to 17--->\", L)\n",
    "\n",
    "#(b) Add 4,5, and 6 to the end of list\n",
    "L.extend([4,5,6])\n",
    "print()\n",
    "print(\"(b) Add 4,5, and 6 to the end of list--->\", L)\n",
    "\n",
    "#(c) Remove the first entry from the list\n",
    "L.remove(L[0])\n",
    "print()\n",
    "print(\"(c) Remove the first entry from the list--->\", L)\n",
    "\n",
    "#(d) Double the list\n",
    "L = L * 2\n",
    "print()\n",
    "print(\"(d) Double the list--->\", L)\n",
    "\n",
    "\n",
    "#(e) Insert 25 at the index 3 \n",
    "L.insert(3, 25)\n",
    "print()\n",
    "print(\"(d) Double the list--->\", L)"
   ]
  }
 ],
 "metadata": {
  "kernelspec": {
   "display_name": "Python 3",
   "language": "python",
   "name": "python3"
  },
  "language_info": {
   "codemirror_mode": {
    "name": "ipython",
    "version": 3
   },
   "file_extension": ".py",
   "mimetype": "text/x-python",
   "name": "python",
   "nbconvert_exporter": "python",
   "pygments_lexer": "ipython3",
   "version": "3.8.8"
  }
 },
 "nbformat": 4,
 "nbformat_minor": 4
}
