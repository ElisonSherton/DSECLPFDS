{
 "cells": [
  {
   "cell_type": "markdown",
   "metadata": {},
   "source": [
    "<center> <img src =\"https://i.postimg.cc/1X8H7YYt/BITS-Logo.png\" width = \"400\" alt=\"BITS Pilani Logo\" /> </center>"
   ]
  },
  {
   "cell_type": "markdown",
   "metadata": {},
   "source": [
    "<font color='green'> <h1> <center> Python - Variables, Expressions & Statements </center> </h1> </font>"
   ]
  },
  {
   "cell_type": "markdown",
   "metadata": {},
   "source": [
    "# Variables"
   ]
  },
  {
   "cell_type": "markdown",
   "metadata": {},
   "source": [
    "The major purpose of variable is to store a value from one part of program so that it can be used in other part of program. It can be used to store the value of computation that is carried out during the flow of the program. A variable is a name that referes to a value."
   ]
  },
  {
   "cell_type": "markdown",
   "metadata": {},
   "source": [
    "<b> Assignment statement<b>"
   ]
  },
  {
   "cell_type": "markdown",
   "metadata": {},
   "source": [
    "Assignment statement creates a new variable and store a value in it. For example, "
   ]
  },
  {
   "cell_type": "code",
   "execution_count": 1,
   "metadata": {},
   "outputs": [
    {
     "name": "stdout",
     "output_type": "stream",
     "text": [
      "this is first string variable\n"
     ]
    }
   ],
   "source": [
    "message = \"this is first string variable\"  # a string type variable named message is created and value is stored in it\n",
    "print(message)"
   ]
  },
  {
   "cell_type": "code",
   "execution_count": 2,
   "metadata": {},
   "outputs": [
    {
     "name": "stdout",
     "output_type": "stream",
     "text": [
      "num contains ---->  5\n",
      "type of num ----->  <class 'int'>\n"
     ]
    }
   ],
   "source": [
    "num = 5 # an int type variable named num is created and 5 is stored as value in int \n",
    "print(\"num contains ----> \", num)\n",
    "print(\"type of num -----> \", type(num))"
   ]
  },
  {
   "cell_type": "code",
   "execution_count": 3,
   "metadata": {},
   "outputs": [
    {
     "name": "stdout",
     "output_type": "stream",
     "text": [
      "float_num contains ----->   3.5\n",
      "float_num now contains ----->   4.5\n"
     ]
    }
   ],
   "source": [
    "float_num = 3.5 # a variable of type float is created and value 3.5 stored in it\n",
    "print(\"float_num contains ----->  \", float_num)\n",
    "\n",
    "float_num = 4.5 # value of variable can be changed\n",
    "print(\"float_num now contains ----->  \", float_num)"
   ]
  },
  {
   "cell_type": "markdown",
   "metadata": {},
   "source": [
    "<b>Variable Naming<b>"
   ]
  },
  {
   "cell_type": "markdown",
   "metadata": {},
   "source": [
    "Choose the variable name that is meaningful and improves the readability of the program. <br>\n",
    "Rules to be kept in mind while naming the variables : <br>\n",
    "    - Letters, numbers and underscore are allowed\n",
    "    - Can not contain spaces \n",
    "    - Can not start with number\n",
    "    - It's case sensitive\n",
    "    - It should not be from the reserved keyword list\n",
    "    "
   ]
  },
  {
   "cell_type": "code",
   "execution_count": 4,
   "metadata": {},
   "outputs": [],
   "source": [
    "name = \"valid variable name\" #valid variable name with letters"
   ]
  },
  {
   "cell_type": "code",
   "execution_count": 5,
   "metadata": {},
   "outputs": [],
   "source": [
    "number1 = 12 # valid varibale name of type int"
   ]
  },
  {
   "cell_type": "code",
   "execution_count": 6,
   "metadata": {},
   "outputs": [],
   "source": [
    "_name = \"valid variable\"  #variable name with underscore"
   ]
  },
  {
   "cell_type": "code",
   "execution_count": 7,
   "metadata": {},
   "outputs": [],
   "source": [
    "# var name = \"some value\" #invalid variable name as it contains space in it"
   ]
  },
  {
   "cell_type": "code",
   "execution_count": 8,
   "metadata": {},
   "outputs": [],
   "source": [
    "#1_name = \"invalid variable\"  # throws error as it starts with number"
   ]
  },
  {
   "cell_type": "markdown",
   "metadata": {},
   "source": [
    "Variable names are case sensitive. Following three variable has same spelling but still contains different values in it."
   ]
  },
  {
   "cell_type": "code",
   "execution_count": 9,
   "metadata": {},
   "outputs": [],
   "source": [
    "name1 = \"xyz\""
   ]
  },
  {
   "cell_type": "code",
   "execution_count": 10,
   "metadata": {},
   "outputs": [],
   "source": [
    "Name1 = \"por\""
   ]
  },
  {
   "cell_type": "code",
   "execution_count": 11,
   "metadata": {},
   "outputs": [],
   "source": [
    "NaMe1 = \"abc\"  "
   ]
  },
  {
   "cell_type": "code",
   "execution_count": 12,
   "metadata": {},
   "outputs": [
    {
     "name": "stdout",
     "output_type": "stream",
     "text": [
      "name1---> xyz\n"
     ]
    }
   ],
   "source": [
    "print(\"name1--->\", name1)"
   ]
  },
  {
   "cell_type": "code",
   "execution_count": 13,
   "metadata": {},
   "outputs": [
    {
     "name": "stdout",
     "output_type": "stream",
     "text": [
      "Name1---> por\n"
     ]
    }
   ],
   "source": [
    "print(\"Name1--->\", Name1)"
   ]
  },
  {
   "cell_type": "code",
   "execution_count": 14,
   "metadata": {},
   "outputs": [
    {
     "name": "stdout",
     "output_type": "stream",
     "text": [
      "NaMe1---> abc\n"
     ]
    }
   ],
   "source": [
    "print(\"NaMe1--->\", NaMe1)"
   ]
  },
  {
   "cell_type": "markdown",
   "metadata": {},
   "source": [
    "Variable name can not be a keyword."
   ]
  },
  {
   "cell_type": "code",
   "execution_count": 15,
   "metadata": {},
   "outputs": [],
   "source": [
    "#class = \"my class value\"    # throws erros as class is reserved word"
   ]
  },
  {
   "cell_type": "markdown",
   "metadata": {},
   "source": [
    "# Statements"
   ]
  },
  {
   "cell_type": "markdown",
   "metadata": {},
   "source": [
    "It is unit of code that Python interpreter executes. It can be a single statement or group of statement like statements within loops, functions etc. When interpreter hits statement, it executes the statement and displays the result (if there is any). "
   ]
  },
  {
   "cell_type": "code",
   "execution_count": 16,
   "metadata": {},
   "outputs": [
    {
     "name": "stdout",
     "output_type": "stream",
     "text": [
      "this is statement\n"
     ]
    }
   ],
   "source": [
    "#Function call is statement\n",
    "print('this is statement')"
   ]
  },
  {
   "cell_type": "code",
   "execution_count": 17,
   "metadata": {},
   "outputs": [],
   "source": [
    "#Assignment is statement but does not produce any output\n",
    "x = 5"
   ]
  },
  {
   "cell_type": "code",
   "execution_count": 18,
   "metadata": {},
   "outputs": [
    {
     "name": "stdout",
     "output_type": "stream",
     "text": [
      "Coming inside the loop ---->  1  times\n",
      "i is --->  0\n",
      "Coming inside the loop ---->  2  times\n",
      "i is --->  1\n",
      "Coming inside the loop ---->  3  times\n",
      "i is --->  2\n",
      "Coming inside the loop ---->  4  times\n",
      "i is --->  3\n",
      "Coming inside the loop ---->  5  times\n",
      "i is --->  4\n"
     ]
    }
   ],
   "source": [
    "#Compound statment - for loop\n",
    "for i in range(5):\n",
    "    print(\"Coming inside the loop ----> \" , i + 1 , \" times\")\n",
    "    print(\"i is ---> \", i)"
   ]
  },
  {
   "cell_type": "markdown",
   "metadata": {},
   "source": [
    "# Expressions"
   ]
  },
  {
   "cell_type": "markdown",
   "metadata": {},
   "source": [
    "Expressions in Python can include operations among compatible types (e.g., integers and floats). For example, basic arithmetic operations like adding multiple numbers:"
   ]
  },
  {
   "cell_type": "code",
   "execution_count": 19,
   "metadata": {},
   "outputs": [
    {
     "data": {
      "text/plain": [
       "103"
      ]
     },
     "execution_count": 19,
     "metadata": {},
     "output_type": "execute_result"
    }
   ],
   "source": [
    "35 + 45 + 23"
   ]
  },
  {
   "cell_type": "markdown",
   "metadata": {},
   "source": [
    "Python follows well accepted mathematical conventions when evaluating mathematical expressions. In the following example, Python adds 3 to the result of the multiplication (i.e., 12)."
   ]
  },
  {
   "cell_type": "code",
   "execution_count": 20,
   "metadata": {},
   "outputs": [
    {
     "data": {
      "text/plain": [
       "15"
      ]
     },
     "execution_count": 20,
     "metadata": {},
     "output_type": "execute_result"
    }
   ],
   "source": [
    "4 * 3 + 3"
   ]
  },
  {
   "cell_type": "markdown",
   "metadata": {},
   "source": [
    "<b>Operators and Operands<b>"
   ]
  },
  {
   "cell_type": "markdown",
   "metadata": {},
   "source": [
    "These are special symbols that represents computations like addition, multiplication etc. Operand are values on which operators are applied."
   ]
  },
  {
   "cell_type": "code",
   "execution_count": 21,
   "metadata": {},
   "outputs": [],
   "source": [
    "x = 5 + 6  # + is operator applied on operands 5 & 6"
   ]
  },
  {
   "cell_type": "code",
   "execution_count": 22,
   "metadata": {},
   "outputs": [],
   "source": [
    "y = x * 9.5 # * is operator applied on operands x & 9.5"
   ]
  },
  {
   "cell_type": "code",
   "execution_count": 23,
   "metadata": {},
   "outputs": [],
   "source": [
    "# z = y + 'abcs'  #throws error as operands should be compatible with the operator"
   ]
  },
  {
   "cell_type": "code",
   "execution_count": 24,
   "metadata": {},
   "outputs": [
    {
     "data": {
      "text/plain": [
       "'BITSPilani'"
      ]
     },
     "execution_count": 24,
     "metadata": {},
     "output_type": "execute_result"
    }
   ],
   "source": [
    "string = 'BITS' + 'Pilani' #for string + is concatenation \n",
    "string"
   ]
  },
  {
   "cell_type": "code",
   "execution_count": 25,
   "metadata": {},
   "outputs": [
    {
     "data": {
      "text/plain": [
       "'BITS Pilani BITS Pilani BITS Pilani '"
      ]
     },
     "execution_count": 25,
     "metadata": {},
     "output_type": "execute_result"
    }
   ],
   "source": [
    "string = \"BITS Pilani \" * 3 #for string * is repetation\n",
    "string"
   ]
  },
  {
   "cell_type": "markdown",
   "metadata": {},
   "source": [
    "<b>Mathematical Operations / Expressions<b>"
   ]
  },
  {
   "cell_type": "code",
   "execution_count": 26,
   "metadata": {},
   "outputs": [
    {
     "data": {
      "text/plain": [
       "8"
      ]
     },
     "execution_count": 26,
     "metadata": {},
     "output_type": "execute_result"
    }
   ],
   "source": [
    "5 + 3 # addition"
   ]
  },
  {
   "cell_type": "code",
   "execution_count": 27,
   "metadata": {},
   "outputs": [
    {
     "data": {
      "text/plain": [
       "2"
      ]
     },
     "execution_count": 27,
     "metadata": {},
     "output_type": "execute_result"
    }
   ],
   "source": [
    "5 - 3 # subtraction"
   ]
  },
  {
   "cell_type": "code",
   "execution_count": 28,
   "metadata": {},
   "outputs": [
    {
     "data": {
      "text/plain": [
       "15"
      ]
     },
     "execution_count": 28,
     "metadata": {},
     "output_type": "execute_result"
    }
   ],
   "source": [
    "5 * 3 #multiplication"
   ]
  },
  {
   "cell_type": "code",
   "execution_count": 29,
   "metadata": {},
   "outputs": [
    {
     "data": {
      "text/plain": [
       "1.6666666666666667"
      ]
     },
     "execution_count": 29,
     "metadata": {},
     "output_type": "execute_result"
    }
   ],
   "source": [
    "5 / 3 # regular division"
   ]
  },
  {
   "cell_type": "code",
   "execution_count": 30,
   "metadata": {},
   "outputs": [
    {
     "data": {
      "text/plain": [
       "1"
      ]
     },
     "execution_count": 30,
     "metadata": {},
     "output_type": "execute_result"
    }
   ],
   "source": [
    "5 // 3 # modulo division, returns reminder after division"
   ]
  },
  {
   "cell_type": "code",
   "execution_count": 31,
   "metadata": {},
   "outputs": [
    {
     "data": {
      "text/plain": [
       "2"
      ]
     },
     "execution_count": 31,
     "metadata": {},
     "output_type": "execute_result"
    }
   ],
   "source": [
    "5 % 3 #integer division"
   ]
  },
  {
   "cell_type": "code",
   "execution_count": 32,
   "metadata": {},
   "outputs": [
    {
     "data": {
      "text/plain": [
       "125"
      ]
     },
     "execution_count": 32,
     "metadata": {},
     "output_type": "execute_result"
    }
   ],
   "source": [
    "5 ** 3 # exponent"
   ]
  },
  {
   "cell_type": "code",
   "execution_count": 33,
   "metadata": {},
   "outputs": [
    {
     "name": "stdout",
     "output_type": "stream",
     "text": [
      "5\n",
      "-1\n",
      "6\n",
      "0.6666666666666666\n",
      "0\n",
      "2\n",
      "8\n"
     ]
    }
   ],
   "source": [
    "num1 = 2\n",
    "num2 = 3\n",
    "\n",
    "print(num1 + num2)  \n",
    "print(num1 - num2) \n",
    "print(num1 * num2) \n",
    "print(num1 / num2)\n",
    "print(num1 // num2)\n",
    "print(num1 % num2) \n",
    "print(num1 ** num2)"
   ]
  },
  {
   "cell_type": "code",
   "execution_count": 34,
   "metadata": {},
   "outputs": [
    {
     "name": "stdout",
     "output_type": "stream",
     "text": [
      "13\n",
      "12\n"
     ]
    }
   ],
   "source": [
    "num1 = 8\n",
    "num1 += 5\n",
    "print(num1)\n",
    "num1 -= 1\n",
    "print(num1)"
   ]
  },
  {
   "cell_type": "markdown",
   "metadata": {},
   "source": [
    "<b> Comparison Operations<b>"
   ]
  },
  {
   "cell_type": "code",
   "execution_count": 35,
   "metadata": {},
   "outputs": [
    {
     "name": "stdout",
     "output_type": "stream",
     "text": [
      "False\n",
      "True\n",
      "False\n",
      "True\n",
      "False\n",
      "True\n"
     ]
    }
   ],
   "source": [
    "num1 = 4\n",
    "num2 = 12\n",
    "print(num1 > num2)\n",
    "print(num1 < num2)\n",
    "print(num1 >= num2)\n",
    "print(num1 <= num2)\n",
    "print(num1 == num2)\n",
    "print(num1 != num2)"
   ]
  },
  {
   "cell_type": "markdown",
   "metadata": {},
   "source": [
    "# Exercise "
   ]
  },
  {
   "cell_type": "markdown",
   "metadata": {},
   "source": [
    "Q1. Compute the simple interest using the formula interest = p * n * r / 100 where p is principal, n is tenure of loan, and r is rate of interest. Accept p, n, r from users and then perform the interest calculation."
   ]
  },
  {
   "cell_type": "code",
   "execution_count": 36,
   "metadata": {},
   "outputs": [
    {
     "name": "stdin",
     "output_type": "stream",
     "text": [
      "Enter P in INR 2000\n",
      "Enter n in years 5\n",
      "Enter r in percentage 10\n"
     ]
    },
    {
     "name": "stdout",
     "output_type": "stream",
     "text": [
      "Simple Interest: 1000.0\n"
     ]
    }
   ],
   "source": [
    "#Try it here\n",
    "p = eval(input(\"Enter P in INR\"))\n",
    "n = eval(input(\"Enter n in years\"))\n",
    "r = eval(input(\"Enter r in percentage\"))\n",
    "interest = p * n * r / 100\n",
    "print(\"Simple Interest:\", interest)"
   ]
  },
  {
   "cell_type": "markdown",
   "metadata": {},
   "source": [
    "Q2. Write a program that asks user weight in kilogram and converts into pounds. There are 2.2 pound in one kilogram."
   ]
  },
  {
   "cell_type": "code",
   "execution_count": 37,
   "metadata": {},
   "outputs": [
    {
     "name": "stdin",
     "output_type": "stream",
     "text": [
      "What is your weight (in kg)? 100.5\n"
     ]
    },
    {
     "name": "stdout",
     "output_type": "stream",
     "text": [
      "Your weight in pounds is: 221.10000000000002\n"
     ]
    }
   ],
   "source": [
    "#Try it here\n",
    "w_kg = eval(input(\"What is your weight (in kg)?\"))\n",
    "w_pnd = w_kg * 2.2\n",
    "print(\"Your weight in pounds is:\", w_pnd)"
   ]
  },
  {
   "cell_type": "markdown",
   "metadata": {},
   "source": [
    "Q3. If a four digit number is entered through keyboard by user. Write a program to calculate the sum of its digits."
   ]
  },
  {
   "cell_type": "code",
   "execution_count": 38,
   "metadata": {},
   "outputs": [
    {
     "name": "stdin",
     "output_type": "stream",
     "text": [
      "Enter a 4 digit number 5612\n"
     ]
    },
    {
     "name": "stdout",
     "output_type": "stream",
     "text": [
      "Sum of digits of provided number 14\n"
     ]
    }
   ],
   "source": [
    "#Try it here\n",
    "four_digit_num = input(\"Enter a 4 digit number\")\n",
    "digit_sum = eval(four_digit_num[0]) + eval(four_digit_num[1]) + eval(four_digit_num[2]) + eval(four_digit_num[3])\n",
    "print(\"Sum of digits of provided number\", digit_sum)"
   ]
  },
  {
   "cell_type": "markdown",
   "metadata": {},
   "source": [
    "# Answers "
   ]
  },
  {
   "cell_type": "code",
   "execution_count": 39,
   "metadata": {},
   "outputs": [
    {
     "name": "stdin",
     "output_type": "stream",
     "text": [
      "Enter the principal amount \n",
      " 2000\n",
      "Enter the tenure of loan in years \n",
      " 5\n",
      "Enter the rate of interest in percentage \n",
      " 10\n"
     ]
    },
    {
     "name": "stdout",
     "output_type": "stream",
     "text": [
      "The interest for loan amount of Rs  2000  for tenure  5  years  with interest rate  10 %\n",
      " 1000.0\n"
     ]
    }
   ],
   "source": [
    "#Q1 Solution\n",
    "p = eval(input(\"Enter the principal amount \\n\"))\n",
    "n = eval(input(\"Enter the tenure of loan in years \\n\"))\n",
    "r = eval(input(\"Enter the rate of interest in percentage \\n\"))\n",
    "\n",
    "interest = (p * n * r) / 100\n",
    "print(\"The interest for loan amount of Rs \", p , \" for tenure \", n, \" years \", \"with interest rate \", r,  \"%\\n\", interest)\n"
   ]
  },
  {
   "cell_type": "code",
   "execution_count": 40,
   "metadata": {},
   "outputs": [
    {
     "name": "stdin",
     "output_type": "stream",
     "text": [
      "Enter the weight in kilogram \n",
      " 100.5\n"
     ]
    },
    {
     "name": "stdout",
     "output_type": "stream",
     "text": [
      "100.5 kg =  221.10000000000002  pounds \n"
     ]
    }
   ],
   "source": [
    "#Q2 Solution\n",
    "weight = eval(input(\"Enter the weight in kilogram \\n\"))\n",
    "weight_in_pounds = weight * 2.2\n",
    "\n",
    "print(weight, \"kg = \", weight_in_pounds , \" pounds \")\n"
   ]
  },
  {
   "cell_type": "code",
   "execution_count": 41,
   "metadata": {},
   "outputs": [
    {
     "name": "stdin",
     "output_type": "stream",
     "text": [
      "Enter a four digit number 5612\n"
     ]
    },
    {
     "name": "stdout",
     "output_type": "stream",
     "text": [
      "The sum of digits of number is   14\n"
     ]
    }
   ],
   "source": [
    "#Q3 Solution\n",
    "number = int(input(\"Enter a four digit number\"))\n",
    "\n",
    "sum_of_digits = 0 \n",
    "\n",
    "digit1 = number % 10\n",
    "sum_of_digits = sum_of_digits + digit1\n",
    "number = int(number / 10 )\n",
    "\n",
    "digit2 = number % 10\n",
    "sum_of_digits = sum_of_digits + digit2\n",
    "number = int(number / 10)\n",
    "\n",
    "digit3 = number % 10\n",
    "sum_of_digits = sum_of_digits + digit3\n",
    "number = int(number / 10)\n",
    "\n",
    "digit4 = number % 10\n",
    "sum_of_digits = sum_of_digits + digit4\n",
    "number = int(number / 10)\n",
    "\n",
    "print(\"The sum of digits of number is  \", sum_of_digits)"
   ]
  }
 ],
 "metadata": {
  "kernelspec": {
   "display_name": "Python 3",
   "language": "python",
   "name": "python3"
  },
  "language_info": {
   "codemirror_mode": {
    "name": "ipython",
    "version": 3
   },
   "file_extension": ".py",
   "mimetype": "text/x-python",
   "name": "python",
   "nbconvert_exporter": "python",
   "pygments_lexer": "ipython3",
   "version": "3.8.8"
  }
 },
 "nbformat": 4,
 "nbformat_minor": 4
}
